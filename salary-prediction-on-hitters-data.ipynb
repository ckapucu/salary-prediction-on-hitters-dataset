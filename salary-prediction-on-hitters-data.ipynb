{
 "cells": [
  {
   "cell_type": "markdown",
   "id": "9827da28",
   "metadata": {
    "papermill": {
     "duration": 0.017149,
     "end_time": "2021-09-21T07:11:29.104687",
     "exception": false,
     "start_time": "2021-09-21T07:11:29.087538",
     "status": "completed"
    },
    "tags": []
   },
   "source": []
  },
  {
   "cell_type": "markdown",
   "id": "aa6959c0",
   "metadata": {
    "papermill": {
     "duration": 0.015717,
     "end_time": "2021-09-21T07:11:29.136890",
     "exception": false,
     "start_time": "2021-09-21T07:11:29.121173",
     "status": "completed"
    },
    "tags": []
   },
   "source": [
    "## Salary Prediction for Hitters Dataset with Linear and Non-Linear Models\n",
    "\n",
    "In this project, we will build several linear and non-linear models on the Hitters dataset. After creating base models, some of them will be tuned to minimize prediction errors in terms of the RMSE metric. To split the dataset for training and test purposes, K-fold Cross-Validation will be used. Linear models used in this project are Linear Regression, Ridge, Lasso, ElasticNet. Non-linear models used in this project are regression implementations of K-Nearest Neighbors (KNN), Classification and Regression Trees (CART), Random Forest (RF), Support Vector Machine (SVM), Gradient Boosting Machine (GBM), eXtreme Gradient Boosting (XGB), and Light-GBM (LGBM).\n",
    "\n",
    "### Context of Study:\n",
    "\n",
    "* Understanding Data\n",
    "* Exploratory Data Analysis\n",
    "* Data Preparation\n",
    "* Feature Engineering\n",
    "* Constructing Base Models (Linear and Non-linear)\n",
    "* Hyperparameter Tuning for Some Models\n",
    "* Conclusion"
   ]
  },
  {
   "cell_type": "markdown",
   "id": "4c9e3aeb",
   "metadata": {
    "papermill": {
     "duration": 0.016124,
     "end_time": "2021-09-21T07:11:29.169637",
     "exception": false,
     "start_time": "2021-09-21T07:11:29.153513",
     "status": "completed"
    },
    "tags": []
   },
   "source": [
    "### Understanding Data\n",
    "\n",
    "Hitters dataset includes Major League Baseball (MLB) data from the seasons 1986 and 1987.\n",
    "Source: This dataset was taken from the StatLib library which is maintained at Carnegie Mellon University.\n",
    "A data frame with 322 observations of major league players on the following 20 variables.\n",
    "\n",
    "#### Variables:\n",
    "* AtBat: Number of times at bat in 1986\n",
    "* Hits: Number of hits in 1986\n",
    "* HmRun: Number of home runs in 1986\n",
    "* Runs: Number of runs in 1986\n",
    "* RBI: Number of runs batted in in 1986\n",
    "* Walks: Number of walks in 1986\n",
    "* PutOuts: Number of put outs in 1986\n",
    "* Assists: Number of assists in 1986\n",
    "* Errors: Number of errors in 1986\n",
    "* CAtBat: Number of times at bat during his career\n",
    "* CHits: Number of hits during his career\n",
    "* CHmRun: Number of home runs during his career\n",
    "* CRuns: Number of runs during his career\n",
    "* CRBI: Number of runs batted in during his career\n",
    "* CWalks: Number of walks during his career\n",
    "* Years:Number of years in the major leagues\n",
    "* League: A factor with levels A and N indicating player's league at the end of 1986\n",
    "* Division: A factor with levels E and W indicating player's division at the end of 1986\n",
    "* NewLeague: A factor with levels A and N indicating player's league at the beginning of 1987\n",
    "* Salary: 1987 annual salary on opening day in thousands of dollars\n"
   ]
  },
  {
   "cell_type": "code",
   "execution_count": 1,
   "id": "c2a2200f",
   "metadata": {
    "_cell_guid": "b1076dfc-b9ad-4769-8c92-a6c4dae69d19",
    "_uuid": "8f2839f25d086af736a60e9eeb907d3b93b6e0e5",
    "execution": {
     "iopub.execute_input": "2021-09-21T07:11:29.206367Z",
     "iopub.status.busy": "2021-09-21T07:11:29.205331Z",
     "iopub.status.idle": "2021-09-21T07:11:29.208391Z",
     "shell.execute_reply": "2021-09-21T07:11:29.208852Z",
     "shell.execute_reply.started": "2021-07-14T12:52:54.427834Z"
    },
    "papermill": {
     "duration": 0.02268,
     "end_time": "2021-09-21T07:11:29.209111",
     "exception": false,
     "start_time": "2021-09-21T07:11:29.186431",
     "status": "completed"
    },
    "tags": []
   },
   "outputs": [],
   "source": [
    "# install required model libraries\n",
    "#!pip install xgboost\n",
    "#!pip install lightgbm"
   ]
  },
  {
   "cell_type": "code",
   "execution_count": 2,
   "id": "49798571",
   "metadata": {
    "execution": {
     "iopub.execute_input": "2021-09-21T07:11:29.244547Z",
     "iopub.status.busy": "2021-09-21T07:11:29.243990Z",
     "iopub.status.idle": "2021-09-21T07:11:31.603962Z",
     "shell.execute_reply": "2021-09-21T07:11:31.603057Z",
     "shell.execute_reply.started": "2021-07-14T12:52:54.799134Z"
    },
    "papermill": {
     "duration": 2.37858,
     "end_time": "2021-09-21T07:11:31.604107",
     "exception": false,
     "start_time": "2021-09-21T07:11:29.225527",
     "status": "completed"
    },
    "tags": []
   },
   "outputs": [
    {
     "data": {
      "text/html": [
       "<style type='text/css'>\n",
       ".datatable table.frame { margin-bottom: 0; }\n",
       ".datatable table.frame thead { border-bottom: none; }\n",
       ".datatable table.frame tr.coltypes td {  color: #FFFFFF;  line-height: 6px;  padding: 0 0.5em;}\n",
       ".datatable .bool    { background: #DDDD99; }\n",
       ".datatable .object  { background: #565656; }\n",
       ".datatable .int     { background: #5D9E5D; }\n",
       ".datatable .float   { background: #4040CC; }\n",
       ".datatable .str     { background: #CC4040; }\n",
       ".datatable .time    { background: #40CC40; }\n",
       ".datatable .row_index {  background: var(--jp-border-color3);  border-right: 1px solid var(--jp-border-color0);  color: var(--jp-ui-font-color3);  font-size: 9px;}\n",
       ".datatable .frame tbody td { text-align: left; }\n",
       ".datatable .frame tr.coltypes .row_index {  background: var(--jp-border-color0);}\n",
       ".datatable th:nth-child(2) { padding-left: 12px; }\n",
       ".datatable .hellipsis {  color: var(--jp-cell-editor-border-color);}\n",
       ".datatable .vellipsis {  background: var(--jp-layout-color0);  color: var(--jp-cell-editor-border-color);}\n",
       ".datatable .na {  color: var(--jp-cell-editor-border-color);  font-size: 80%;}\n",
       ".datatable .sp {  opacity: 0.25;}\n",
       ".datatable .footer { font-size: 9px; }\n",
       ".datatable .frame_dimensions {  background: var(--jp-border-color3);  border-top: 1px solid var(--jp-border-color0);  color: var(--jp-ui-font-color3);  display: inline-block;  opacity: 0.6;  padding: 1px 10px 1px 5px;}\n",
       "</style>\n"
      ],
      "text/plain": [
       "<IPython.core.display.HTML object>"
      ]
     },
     "metadata": {},
     "output_type": "display_data"
    }
   ],
   "source": [
    "# ignore warnings\n",
    "import warnings\n",
    "warnings.simplefilter(action='ignore', category=Warning)\n",
    "\n",
    "import numpy as np\n",
    "import pandas as pd\n",
    "import seaborn as sns\n",
    "import matplotlib.pyplot as plt\n",
    "\n",
    "from sklearn.preprocessing import LabelEncoder\n",
    "from sklearn.metrics import mean_squared_error\n",
    "from sklearn.model_selection import GridSearchCV, cross_val_score\n",
    "\n",
    "# linear models\n",
    "from sklearn.linear_model import LinearRegression, Ridge, Lasso, ElasticNet\n",
    "# non-linear models\n",
    "from sklearn.neighbors import KNeighborsRegressor\n",
    "from sklearn.svm import SVR\n",
    "from sklearn.tree import DecisionTreeRegressor\n",
    "from sklearn.ensemble import RandomForestRegressor, GradientBoostingRegressor\n",
    "from xgboost import XGBRegressor\n",
    "from lightgbm import LGBMRegressor"
   ]
  },
  {
   "cell_type": "code",
   "execution_count": 3,
   "id": "aaf619ce",
   "metadata": {
    "execution": {
     "iopub.execute_input": "2021-09-21T07:11:31.642372Z",
     "iopub.status.busy": "2021-09-21T07:11:31.641782Z",
     "iopub.status.idle": "2021-09-21T07:11:31.658396Z",
     "shell.execute_reply": "2021-09-21T07:11:31.657882Z",
     "shell.execute_reply.started": "2021-07-14T12:52:55.707081Z"
    },
    "papermill": {
     "duration": 0.037184,
     "end_time": "2021-09-21T07:11:31.658538",
     "exception": false,
     "start_time": "2021-09-21T07:11:31.621354",
     "status": "completed"
    },
    "tags": []
   },
   "outputs": [],
   "source": [
    "#read the Hitters dataset\n",
    "data = pd.read_csv(\"../input/hitters-baseball-data/Hitters.csv\")\n",
    "# copy loaded data into df\n",
    "df = data.copy()"
   ]
  },
  {
   "cell_type": "markdown",
   "id": "29b8a5f9",
   "metadata": {
    "papermill": {
     "duration": 0.016232,
     "end_time": "2021-09-21T07:11:31.691347",
     "exception": false,
     "start_time": "2021-09-21T07:11:31.675115",
     "status": "completed"
    },
    "tags": []
   },
   "source": [
    "### Exploratory Data Analysis"
   ]
  },
  {
   "cell_type": "code",
   "execution_count": 4,
   "id": "d4dff808",
   "metadata": {
    "execution": {
     "iopub.execute_input": "2021-09-21T07:11:31.733848Z",
     "iopub.status.busy": "2021-09-21T07:11:31.733261Z",
     "iopub.status.idle": "2021-09-21T07:11:31.756992Z",
     "shell.execute_reply": "2021-09-21T07:11:31.756398Z",
     "shell.execute_reply.started": "2021-07-14T12:52:56.901399Z"
    },
    "papermill": {
     "duration": 0.049288,
     "end_time": "2021-09-21T07:11:31.757120",
     "exception": false,
     "start_time": "2021-09-21T07:11:31.707832",
     "status": "completed"
    },
    "tags": []
   },
   "outputs": [
    {
     "data": {
      "text/html": [
       "<div>\n",
       "<style scoped>\n",
       "    .dataframe tbody tr th:only-of-type {\n",
       "        vertical-align: middle;\n",
       "    }\n",
       "\n",
       "    .dataframe tbody tr th {\n",
       "        vertical-align: top;\n",
       "    }\n",
       "\n",
       "    .dataframe thead th {\n",
       "        text-align: right;\n",
       "    }\n",
       "</style>\n",
       "<table border=\"1\" class=\"dataframe\">\n",
       "  <thead>\n",
       "    <tr style=\"text-align: right;\">\n",
       "      <th></th>\n",
       "      <th>AtBat</th>\n",
       "      <th>Hits</th>\n",
       "      <th>HmRun</th>\n",
       "      <th>Runs</th>\n",
       "      <th>RBI</th>\n",
       "      <th>Walks</th>\n",
       "      <th>Years</th>\n",
       "      <th>CAtBat</th>\n",
       "      <th>CHits</th>\n",
       "      <th>CHmRun</th>\n",
       "      <th>CRuns</th>\n",
       "      <th>CRBI</th>\n",
       "      <th>CWalks</th>\n",
       "      <th>League</th>\n",
       "      <th>Division</th>\n",
       "      <th>PutOuts</th>\n",
       "      <th>Assists</th>\n",
       "      <th>Errors</th>\n",
       "      <th>Salary</th>\n",
       "      <th>NewLeague</th>\n",
       "    </tr>\n",
       "  </thead>\n",
       "  <tbody>\n",
       "    <tr>\n",
       "      <th>0</th>\n",
       "      <td>293</td>\n",
       "      <td>66</td>\n",
       "      <td>1</td>\n",
       "      <td>30</td>\n",
       "      <td>29</td>\n",
       "      <td>14</td>\n",
       "      <td>1</td>\n",
       "      <td>293</td>\n",
       "      <td>66</td>\n",
       "      <td>1</td>\n",
       "      <td>30</td>\n",
       "      <td>29</td>\n",
       "      <td>14</td>\n",
       "      <td>A</td>\n",
       "      <td>E</td>\n",
       "      <td>446</td>\n",
       "      <td>33</td>\n",
       "      <td>20</td>\n",
       "      <td>NaN</td>\n",
       "      <td>A</td>\n",
       "    </tr>\n",
       "    <tr>\n",
       "      <th>1</th>\n",
       "      <td>315</td>\n",
       "      <td>81</td>\n",
       "      <td>7</td>\n",
       "      <td>24</td>\n",
       "      <td>38</td>\n",
       "      <td>39</td>\n",
       "      <td>14</td>\n",
       "      <td>3449</td>\n",
       "      <td>835</td>\n",
       "      <td>69</td>\n",
       "      <td>321</td>\n",
       "      <td>414</td>\n",
       "      <td>375</td>\n",
       "      <td>N</td>\n",
       "      <td>W</td>\n",
       "      <td>632</td>\n",
       "      <td>43</td>\n",
       "      <td>10</td>\n",
       "      <td>475.0</td>\n",
       "      <td>N</td>\n",
       "    </tr>\n",
       "    <tr>\n",
       "      <th>2</th>\n",
       "      <td>479</td>\n",
       "      <td>130</td>\n",
       "      <td>18</td>\n",
       "      <td>66</td>\n",
       "      <td>72</td>\n",
       "      <td>76</td>\n",
       "      <td>3</td>\n",
       "      <td>1624</td>\n",
       "      <td>457</td>\n",
       "      <td>63</td>\n",
       "      <td>224</td>\n",
       "      <td>266</td>\n",
       "      <td>263</td>\n",
       "      <td>A</td>\n",
       "      <td>W</td>\n",
       "      <td>880</td>\n",
       "      <td>82</td>\n",
       "      <td>14</td>\n",
       "      <td>480.0</td>\n",
       "      <td>A</td>\n",
       "    </tr>\n",
       "    <tr>\n",
       "      <th>3</th>\n",
       "      <td>496</td>\n",
       "      <td>141</td>\n",
       "      <td>20</td>\n",
       "      <td>65</td>\n",
       "      <td>78</td>\n",
       "      <td>37</td>\n",
       "      <td>11</td>\n",
       "      <td>5628</td>\n",
       "      <td>1575</td>\n",
       "      <td>225</td>\n",
       "      <td>828</td>\n",
       "      <td>838</td>\n",
       "      <td>354</td>\n",
       "      <td>N</td>\n",
       "      <td>E</td>\n",
       "      <td>200</td>\n",
       "      <td>11</td>\n",
       "      <td>3</td>\n",
       "      <td>500.0</td>\n",
       "      <td>N</td>\n",
       "    </tr>\n",
       "    <tr>\n",
       "      <th>4</th>\n",
       "      <td>321</td>\n",
       "      <td>87</td>\n",
       "      <td>10</td>\n",
       "      <td>39</td>\n",
       "      <td>42</td>\n",
       "      <td>30</td>\n",
       "      <td>2</td>\n",
       "      <td>396</td>\n",
       "      <td>101</td>\n",
       "      <td>12</td>\n",
       "      <td>48</td>\n",
       "      <td>46</td>\n",
       "      <td>33</td>\n",
       "      <td>N</td>\n",
       "      <td>E</td>\n",
       "      <td>805</td>\n",
       "      <td>40</td>\n",
       "      <td>4</td>\n",
       "      <td>91.5</td>\n",
       "      <td>N</td>\n",
       "    </tr>\n",
       "  </tbody>\n",
       "</table>\n",
       "</div>"
      ],
      "text/plain": [
       "   AtBat  Hits  HmRun  Runs  RBI  Walks  Years  CAtBat  CHits  CHmRun  CRuns  \\\n",
       "0    293    66      1    30   29     14      1     293     66       1     30   \n",
       "1    315    81      7    24   38     39     14    3449    835      69    321   \n",
       "2    479   130     18    66   72     76      3    1624    457      63    224   \n",
       "3    496   141     20    65   78     37     11    5628   1575     225    828   \n",
       "4    321    87     10    39   42     30      2     396    101      12     48   \n",
       "\n",
       "   CRBI  CWalks League Division  PutOuts  Assists  Errors  Salary NewLeague  \n",
       "0    29      14      A        E      446       33      20     NaN         A  \n",
       "1   414     375      N        W      632       43      10   475.0         N  \n",
       "2   266     263      A        W      880       82      14   480.0         A  \n",
       "3   838     354      N        E      200       11       3   500.0         N  \n",
       "4    46      33      N        E      805       40       4    91.5         N  "
      ]
     },
     "execution_count": 4,
     "metadata": {},
     "output_type": "execute_result"
    }
   ],
   "source": [
    "df.head()"
   ]
  },
  {
   "cell_type": "code",
   "execution_count": 5,
   "id": "d495e729",
   "metadata": {
    "execution": {
     "iopub.execute_input": "2021-09-21T07:11:31.796594Z",
     "iopub.status.busy": "2021-09-21T07:11:31.795736Z",
     "iopub.status.idle": "2021-09-21T07:11:31.799507Z",
     "shell.execute_reply": "2021-09-21T07:11:31.799087Z",
     "shell.execute_reply.started": "2021-07-14T12:52:57.263027Z"
    },
    "papermill": {
     "duration": 0.025502,
     "end_time": "2021-09-21T07:11:31.799650",
     "exception": false,
     "start_time": "2021-09-21T07:11:31.774148",
     "status": "completed"
    },
    "tags": []
   },
   "outputs": [
    {
     "data": {
      "text/plain": [
       "(322, 20)"
      ]
     },
     "execution_count": 5,
     "metadata": {},
     "output_type": "execute_result"
    }
   ],
   "source": [
    "# number of rows and columns in data\n",
    "df.shape"
   ]
  },
  {
   "cell_type": "code",
   "execution_count": 6,
   "id": "36480024",
   "metadata": {
    "execution": {
     "iopub.execute_input": "2021-09-21T07:11:31.839218Z",
     "iopub.status.busy": "2021-09-21T07:11:31.838385Z",
     "iopub.status.idle": "2021-09-21T07:11:31.904677Z",
     "shell.execute_reply": "2021-09-21T07:11:31.905315Z",
     "shell.execute_reply.started": "2021-07-14T12:52:58.434421Z"
    },
    "papermill": {
     "duration": 0.088528,
     "end_time": "2021-09-21T07:11:31.905531",
     "exception": false,
     "start_time": "2021-09-21T07:11:31.817003",
     "status": "completed"
    },
    "tags": []
   },
   "outputs": [
    {
     "data": {
      "text/html": [
       "<div>\n",
       "<style scoped>\n",
       "    .dataframe tbody tr th:only-of-type {\n",
       "        vertical-align: middle;\n",
       "    }\n",
       "\n",
       "    .dataframe tbody tr th {\n",
       "        vertical-align: top;\n",
       "    }\n",
       "\n",
       "    .dataframe thead th {\n",
       "        text-align: right;\n",
       "    }\n",
       "</style>\n",
       "<table border=\"1\" class=\"dataframe\">\n",
       "  <thead>\n",
       "    <tr style=\"text-align: right;\">\n",
       "      <th></th>\n",
       "      <th>count</th>\n",
       "      <th>mean</th>\n",
       "      <th>std</th>\n",
       "      <th>min</th>\n",
       "      <th>25%</th>\n",
       "      <th>50%</th>\n",
       "      <th>75%</th>\n",
       "      <th>max</th>\n",
       "    </tr>\n",
       "  </thead>\n",
       "  <tbody>\n",
       "    <tr>\n",
       "      <th>AtBat</th>\n",
       "      <td>322.0</td>\n",
       "      <td>380.928571</td>\n",
       "      <td>153.404981</td>\n",
       "      <td>16.0</td>\n",
       "      <td>255.25</td>\n",
       "      <td>379.5</td>\n",
       "      <td>512.00</td>\n",
       "      <td>687.0</td>\n",
       "    </tr>\n",
       "    <tr>\n",
       "      <th>Hits</th>\n",
       "      <td>322.0</td>\n",
       "      <td>101.024845</td>\n",
       "      <td>46.454741</td>\n",
       "      <td>1.0</td>\n",
       "      <td>64.00</td>\n",
       "      <td>96.0</td>\n",
       "      <td>137.00</td>\n",
       "      <td>238.0</td>\n",
       "    </tr>\n",
       "    <tr>\n",
       "      <th>HmRun</th>\n",
       "      <td>322.0</td>\n",
       "      <td>10.770186</td>\n",
       "      <td>8.709037</td>\n",
       "      <td>0.0</td>\n",
       "      <td>4.00</td>\n",
       "      <td>8.0</td>\n",
       "      <td>16.00</td>\n",
       "      <td>40.0</td>\n",
       "    </tr>\n",
       "    <tr>\n",
       "      <th>Runs</th>\n",
       "      <td>322.0</td>\n",
       "      <td>50.909938</td>\n",
       "      <td>26.024095</td>\n",
       "      <td>0.0</td>\n",
       "      <td>30.25</td>\n",
       "      <td>48.0</td>\n",
       "      <td>69.00</td>\n",
       "      <td>130.0</td>\n",
       "    </tr>\n",
       "    <tr>\n",
       "      <th>RBI</th>\n",
       "      <td>322.0</td>\n",
       "      <td>48.027950</td>\n",
       "      <td>26.166895</td>\n",
       "      <td>0.0</td>\n",
       "      <td>28.00</td>\n",
       "      <td>44.0</td>\n",
       "      <td>64.75</td>\n",
       "      <td>121.0</td>\n",
       "    </tr>\n",
       "    <tr>\n",
       "      <th>Walks</th>\n",
       "      <td>322.0</td>\n",
       "      <td>38.742236</td>\n",
       "      <td>21.639327</td>\n",
       "      <td>0.0</td>\n",
       "      <td>22.00</td>\n",
       "      <td>35.0</td>\n",
       "      <td>53.00</td>\n",
       "      <td>105.0</td>\n",
       "    </tr>\n",
       "    <tr>\n",
       "      <th>Years</th>\n",
       "      <td>322.0</td>\n",
       "      <td>7.444099</td>\n",
       "      <td>4.926087</td>\n",
       "      <td>1.0</td>\n",
       "      <td>4.00</td>\n",
       "      <td>6.0</td>\n",
       "      <td>11.00</td>\n",
       "      <td>24.0</td>\n",
       "    </tr>\n",
       "    <tr>\n",
       "      <th>CAtBat</th>\n",
       "      <td>322.0</td>\n",
       "      <td>2648.683230</td>\n",
       "      <td>2324.205870</td>\n",
       "      <td>19.0</td>\n",
       "      <td>816.75</td>\n",
       "      <td>1928.0</td>\n",
       "      <td>3924.25</td>\n",
       "      <td>14053.0</td>\n",
       "    </tr>\n",
       "    <tr>\n",
       "      <th>CHits</th>\n",
       "      <td>322.0</td>\n",
       "      <td>717.571429</td>\n",
       "      <td>654.472627</td>\n",
       "      <td>4.0</td>\n",
       "      <td>209.00</td>\n",
       "      <td>508.0</td>\n",
       "      <td>1059.25</td>\n",
       "      <td>4256.0</td>\n",
       "    </tr>\n",
       "    <tr>\n",
       "      <th>CHmRun</th>\n",
       "      <td>322.0</td>\n",
       "      <td>69.490683</td>\n",
       "      <td>86.266061</td>\n",
       "      <td>0.0</td>\n",
       "      <td>14.00</td>\n",
       "      <td>37.5</td>\n",
       "      <td>90.00</td>\n",
       "      <td>548.0</td>\n",
       "    </tr>\n",
       "    <tr>\n",
       "      <th>CRuns</th>\n",
       "      <td>322.0</td>\n",
       "      <td>358.795031</td>\n",
       "      <td>334.105886</td>\n",
       "      <td>1.0</td>\n",
       "      <td>100.25</td>\n",
       "      <td>247.0</td>\n",
       "      <td>526.25</td>\n",
       "      <td>2165.0</td>\n",
       "    </tr>\n",
       "    <tr>\n",
       "      <th>CRBI</th>\n",
       "      <td>322.0</td>\n",
       "      <td>330.118012</td>\n",
       "      <td>333.219617</td>\n",
       "      <td>0.0</td>\n",
       "      <td>88.75</td>\n",
       "      <td>220.5</td>\n",
       "      <td>426.25</td>\n",
       "      <td>1659.0</td>\n",
       "    </tr>\n",
       "    <tr>\n",
       "      <th>CWalks</th>\n",
       "      <td>322.0</td>\n",
       "      <td>260.239130</td>\n",
       "      <td>267.058085</td>\n",
       "      <td>0.0</td>\n",
       "      <td>67.25</td>\n",
       "      <td>170.5</td>\n",
       "      <td>339.25</td>\n",
       "      <td>1566.0</td>\n",
       "    </tr>\n",
       "    <tr>\n",
       "      <th>PutOuts</th>\n",
       "      <td>322.0</td>\n",
       "      <td>288.937888</td>\n",
       "      <td>280.704614</td>\n",
       "      <td>0.0</td>\n",
       "      <td>109.25</td>\n",
       "      <td>212.0</td>\n",
       "      <td>325.00</td>\n",
       "      <td>1378.0</td>\n",
       "    </tr>\n",
       "    <tr>\n",
       "      <th>Assists</th>\n",
       "      <td>322.0</td>\n",
       "      <td>106.913043</td>\n",
       "      <td>136.854876</td>\n",
       "      <td>0.0</td>\n",
       "      <td>7.00</td>\n",
       "      <td>39.5</td>\n",
       "      <td>166.00</td>\n",
       "      <td>492.0</td>\n",
       "    </tr>\n",
       "    <tr>\n",
       "      <th>Errors</th>\n",
       "      <td>322.0</td>\n",
       "      <td>8.040373</td>\n",
       "      <td>6.368359</td>\n",
       "      <td>0.0</td>\n",
       "      <td>3.00</td>\n",
       "      <td>6.0</td>\n",
       "      <td>11.00</td>\n",
       "      <td>32.0</td>\n",
       "    </tr>\n",
       "    <tr>\n",
       "      <th>Salary</th>\n",
       "      <td>263.0</td>\n",
       "      <td>535.925882</td>\n",
       "      <td>451.118681</td>\n",
       "      <td>67.5</td>\n",
       "      <td>190.00</td>\n",
       "      <td>425.0</td>\n",
       "      <td>750.00</td>\n",
       "      <td>2460.0</td>\n",
       "    </tr>\n",
       "  </tbody>\n",
       "</table>\n",
       "</div>"
      ],
      "text/plain": [
       "         count         mean          std   min     25%     50%      75%  \\\n",
       "AtBat    322.0   380.928571   153.404981  16.0  255.25   379.5   512.00   \n",
       "Hits     322.0   101.024845    46.454741   1.0   64.00    96.0   137.00   \n",
       "HmRun    322.0    10.770186     8.709037   0.0    4.00     8.0    16.00   \n",
       "Runs     322.0    50.909938    26.024095   0.0   30.25    48.0    69.00   \n",
       "RBI      322.0    48.027950    26.166895   0.0   28.00    44.0    64.75   \n",
       "Walks    322.0    38.742236    21.639327   0.0   22.00    35.0    53.00   \n",
       "Years    322.0     7.444099     4.926087   1.0    4.00     6.0    11.00   \n",
       "CAtBat   322.0  2648.683230  2324.205870  19.0  816.75  1928.0  3924.25   \n",
       "CHits    322.0   717.571429   654.472627   4.0  209.00   508.0  1059.25   \n",
       "CHmRun   322.0    69.490683    86.266061   0.0   14.00    37.5    90.00   \n",
       "CRuns    322.0   358.795031   334.105886   1.0  100.25   247.0   526.25   \n",
       "CRBI     322.0   330.118012   333.219617   0.0   88.75   220.5   426.25   \n",
       "CWalks   322.0   260.239130   267.058085   0.0   67.25   170.5   339.25   \n",
       "PutOuts  322.0   288.937888   280.704614   0.0  109.25   212.0   325.00   \n",
       "Assists  322.0   106.913043   136.854876   0.0    7.00    39.5   166.00   \n",
       "Errors   322.0     8.040373     6.368359   0.0    3.00     6.0    11.00   \n",
       "Salary   263.0   535.925882   451.118681  67.5  190.00   425.0   750.00   \n",
       "\n",
       "             max  \n",
       "AtBat      687.0  \n",
       "Hits       238.0  \n",
       "HmRun       40.0  \n",
       "Runs       130.0  \n",
       "RBI        121.0  \n",
       "Walks      105.0  \n",
       "Years       24.0  \n",
       "CAtBat   14053.0  \n",
       "CHits     4256.0  \n",
       "CHmRun     548.0  \n",
       "CRuns     2165.0  \n",
       "CRBI      1659.0  \n",
       "CWalks    1566.0  \n",
       "PutOuts   1378.0  \n",
       "Assists    492.0  \n",
       "Errors      32.0  \n",
       "Salary    2460.0  "
      ]
     },
     "execution_count": 6,
     "metadata": {},
     "output_type": "execute_result"
    }
   ],
   "source": [
    "# descriptive statistics for data\n",
    "df.describe().T"
   ]
  },
  {
   "cell_type": "markdown",
   "id": "c6334305",
   "metadata": {
    "papermill": {
     "duration": 0.023448,
     "end_time": "2021-09-21T07:11:31.949776",
     "exception": false,
     "start_time": "2021-09-21T07:11:31.926328",
     "status": "completed"
    },
    "tags": []
   },
   "source": [
    "### Data Preparation"
   ]
  },
  {
   "cell_type": "code",
   "execution_count": 7,
   "id": "36c86115",
   "metadata": {
    "execution": {
     "iopub.execute_input": "2021-09-21T07:11:31.991139Z",
     "iopub.status.busy": "2021-09-21T07:11:31.990235Z",
     "iopub.status.idle": "2021-09-21T07:11:31.992407Z",
     "shell.execute_reply": "2021-09-21T07:11:31.992922Z",
     "shell.execute_reply.started": "2021-07-14T12:53:00.649326Z"
    },
    "papermill": {
     "duration": 0.025766,
     "end_time": "2021-09-21T07:11:31.993087",
     "exception": false,
     "start_time": "2021-09-21T07:11:31.967321",
     "status": "completed"
    },
    "tags": []
   },
   "outputs": [],
   "source": [
    "# categorical features\n",
    "cat_cols = [col for col in df.columns if df[col].dtypes == \"O\"]\n",
    "# numerical features except for target (Salary)\n",
    "num_cols = [col for col in df.columns if df[col].dtypes != \"O\" and col not in \"Salary\"]"
   ]
  },
  {
   "cell_type": "code",
   "execution_count": 8,
   "id": "b234d102",
   "metadata": {
    "execution": {
     "iopub.execute_input": "2021-09-21T07:11:32.031431Z",
     "iopub.status.busy": "2021-09-21T07:11:32.030585Z",
     "iopub.status.idle": "2021-09-21T07:11:32.092821Z",
     "shell.execute_reply": "2021-09-21T07:11:32.093247Z",
     "shell.execute_reply.started": "2021-07-14T12:53:01.17339Z"
    },
    "papermill": {
     "duration": 0.082807,
     "end_time": "2021-09-21T07:11:32.093414",
     "exception": false,
     "start_time": "2021-09-21T07:11:32.010607",
     "status": "completed"
    },
    "tags": []
   },
   "outputs": [],
   "source": [
    "# check outliers in data and replace them with thresholds\n",
    "q1 = 0.10\n",
    "q3 = 0.90\n",
    "for col in num_cols:\n",
    "    quartile1 = df[col].quantile(q1)\n",
    "    quartile3 = df[col].quantile(q3)\n",
    "    interquantile_range = quartile3 - quartile1\n",
    "    up_limit = quartile3 + 1.5 * interquantile_range\n",
    "    low_limit = quartile1 - 1.5 * interquantile_range\n",
    "    if df[(df[col] > up_limit) | (df[col] < low_limit)].any(axis=None):\n",
    "        df.loc[(df[col] < low_limit),col] = low_limit\n",
    "        df.loc[(df[col] > up_limit), col] = up_limit"
   ]
  },
  {
   "cell_type": "code",
   "execution_count": 9,
   "id": "d1b264a5",
   "metadata": {
    "execution": {
     "iopub.execute_input": "2021-09-21T07:11:32.137552Z",
     "iopub.status.busy": "2021-09-21T07:11:32.136895Z",
     "iopub.status.idle": "2021-09-21T07:11:32.139384Z",
     "shell.execute_reply": "2021-09-21T07:11:32.139829Z",
     "shell.execute_reply.started": "2021-07-14T12:53:02.247624Z"
    },
    "papermill": {
     "duration": 0.028828,
     "end_time": "2021-09-21T07:11:32.139992",
     "exception": false,
     "start_time": "2021-09-21T07:11:32.111164",
     "status": "completed"
    },
    "tags": []
   },
   "outputs": [
    {
     "data": {
      "text/plain": [
       "(295, 20)"
      ]
     },
     "execution_count": 9,
     "metadata": {},
     "output_type": "execute_result"
    }
   ],
   "source": [
    "# remove outliers for Salary and keep NaN values\n",
    "salary_up = int(df[\"Salary\"].quantile(q3))\n",
    "df = df[(df[\"Salary\"] < salary_up) | (df[\"Salary\"].isnull())]\n",
    "# data shape after removing outliers in Salary\n",
    "df.shape"
   ]
  },
  {
   "cell_type": "code",
   "execution_count": 10,
   "id": "a6b922cb",
   "metadata": {
    "execution": {
     "iopub.execute_input": "2021-09-21T07:11:32.179260Z",
     "iopub.status.busy": "2021-09-21T07:11:32.178703Z",
     "iopub.status.idle": "2021-09-21T07:11:32.185159Z",
     "shell.execute_reply": "2021-09-21T07:11:32.185785Z",
     "shell.execute_reply.started": "2021-07-14T12:53:03.369437Z"
    },
    "papermill": {
     "duration": 0.028013,
     "end_time": "2021-09-21T07:11:32.185984",
     "exception": false,
     "start_time": "2021-09-21T07:11:32.157971",
     "status": "completed"
    },
    "tags": []
   },
   "outputs": [
    {
     "data": {
      "text/plain": [
       "AtBat         0\n",
       "Hits          0\n",
       "HmRun         0\n",
       "Runs          0\n",
       "RBI           0\n",
       "Walks         0\n",
       "Years         0\n",
       "CAtBat        0\n",
       "CHits         0\n",
       "CHmRun        0\n",
       "CRuns         0\n",
       "CRBI          0\n",
       "CWalks        0\n",
       "League        0\n",
       "Division      0\n",
       "PutOuts       0\n",
       "Assists       0\n",
       "Errors        0\n",
       "Salary       59\n",
       "NewLeague     0\n",
       "dtype: int64"
      ]
     },
     "execution_count": 10,
     "metadata": {},
     "output_type": "execute_result"
    }
   ],
   "source": [
    "# number of NaN values in each feature\n",
    "df.isnull().sum()"
   ]
  },
  {
   "cell_type": "code",
   "execution_count": 11,
   "id": "17cd8e1b",
   "metadata": {
    "execution": {
     "iopub.execute_input": "2021-09-21T07:11:32.225184Z",
     "iopub.status.busy": "2021-09-21T07:11:32.224601Z",
     "iopub.status.idle": "2021-09-21T07:11:32.231469Z",
     "shell.execute_reply": "2021-09-21T07:11:32.231929Z",
     "shell.execute_reply.started": "2021-07-14T12:53:04.686691Z"
    },
    "papermill": {
     "duration": 0.027833,
     "end_time": "2021-09-21T07:11:32.232093",
     "exception": false,
     "start_time": "2021-09-21T07:11:32.204260",
     "status": "completed"
    },
    "tags": []
   },
   "outputs": [
    {
     "data": {
      "text/plain": [
       "(236, 20)"
      ]
     },
     "execution_count": 11,
     "metadata": {},
     "output_type": "execute_result"
    }
   ],
   "source": [
    "# remove rows containing NaN values\n",
    "df.dropna(inplace=True)\n",
    "df.shape"
   ]
  },
  {
   "cell_type": "code",
   "execution_count": 12,
   "id": "489372c5",
   "metadata": {
    "execution": {
     "iopub.execute_input": "2021-09-21T07:11:32.272135Z",
     "iopub.status.busy": "2021-09-21T07:11:32.271457Z",
     "iopub.status.idle": "2021-09-21T07:11:32.281349Z",
     "shell.execute_reply": "2021-09-21T07:11:32.280307Z",
     "shell.execute_reply.started": "2021-07-14T12:53:06.133548Z"
    },
    "papermill": {
     "duration": 0.030779,
     "end_time": "2021-09-21T07:11:32.281481",
     "exception": false,
     "start_time": "2021-09-21T07:11:32.250702",
     "status": "completed"
    },
    "tags": []
   },
   "outputs": [],
   "source": [
    "# label encoding of categorical features (League, Division, NewLeague) with two class \n",
    "binary_cols = [col for col in df.columns if df[col].dtype not in [int, float] and df[col].nunique() == 2]\n",
    "for col in binary_cols:\n",
    "    labelencoder = LabelEncoder()\n",
    "    df[col] = labelencoder.fit_transform(df[col])"
   ]
  },
  {
   "cell_type": "code",
   "execution_count": 13,
   "id": "7809c4d2",
   "metadata": {
    "execution": {
     "iopub.execute_input": "2021-09-21T07:11:32.334728Z",
     "iopub.status.busy": "2021-09-21T07:11:32.334148Z",
     "iopub.status.idle": "2021-09-21T07:11:32.337398Z",
     "shell.execute_reply": "2021-09-21T07:11:32.336920Z",
     "shell.execute_reply.started": "2021-07-14T12:53:07.229657Z"
    },
    "papermill": {
     "duration": 0.03765,
     "end_time": "2021-09-21T07:11:32.337518",
     "exception": false,
     "start_time": "2021-09-21T07:11:32.299868",
     "status": "completed"
    },
    "tags": []
   },
   "outputs": [
    {
     "data": {
      "text/html": [
       "<div>\n",
       "<style scoped>\n",
       "    .dataframe tbody tr th:only-of-type {\n",
       "        vertical-align: middle;\n",
       "    }\n",
       "\n",
       "    .dataframe tbody tr th {\n",
       "        vertical-align: top;\n",
       "    }\n",
       "\n",
       "    .dataframe thead th {\n",
       "        text-align: right;\n",
       "    }\n",
       "</style>\n",
       "<table border=\"1\" class=\"dataframe\">\n",
       "  <thead>\n",
       "    <tr style=\"text-align: right;\">\n",
       "      <th></th>\n",
       "      <th>AtBat</th>\n",
       "      <th>Hits</th>\n",
       "      <th>HmRun</th>\n",
       "      <th>Runs</th>\n",
       "      <th>RBI</th>\n",
       "      <th>Walks</th>\n",
       "      <th>Years</th>\n",
       "      <th>CAtBat</th>\n",
       "      <th>CHits</th>\n",
       "      <th>CHmRun</th>\n",
       "      <th>CRuns</th>\n",
       "      <th>CRBI</th>\n",
       "      <th>CWalks</th>\n",
       "      <th>League</th>\n",
       "      <th>Division</th>\n",
       "      <th>PutOuts</th>\n",
       "      <th>Assists</th>\n",
       "      <th>Errors</th>\n",
       "      <th>Salary</th>\n",
       "      <th>NewLeague</th>\n",
       "    </tr>\n",
       "  </thead>\n",
       "  <tbody>\n",
       "    <tr>\n",
       "      <th>1</th>\n",
       "      <td>315</td>\n",
       "      <td>81</td>\n",
       "      <td>7</td>\n",
       "      <td>24</td>\n",
       "      <td>38</td>\n",
       "      <td>39</td>\n",
       "      <td>14</td>\n",
       "      <td>3449</td>\n",
       "      <td>835.0</td>\n",
       "      <td>69.0</td>\n",
       "      <td>321</td>\n",
       "      <td>414</td>\n",
       "      <td>375.0</td>\n",
       "      <td>1</td>\n",
       "      <td>1</td>\n",
       "      <td>632</td>\n",
       "      <td>43</td>\n",
       "      <td>10</td>\n",
       "      <td>475.0</td>\n",
       "      <td>1</td>\n",
       "    </tr>\n",
       "    <tr>\n",
       "      <th>2</th>\n",
       "      <td>479</td>\n",
       "      <td>130</td>\n",
       "      <td>18</td>\n",
       "      <td>66</td>\n",
       "      <td>72</td>\n",
       "      <td>76</td>\n",
       "      <td>3</td>\n",
       "      <td>1624</td>\n",
       "      <td>457.0</td>\n",
       "      <td>63.0</td>\n",
       "      <td>224</td>\n",
       "      <td>266</td>\n",
       "      <td>263.0</td>\n",
       "      <td>0</td>\n",
       "      <td>1</td>\n",
       "      <td>880</td>\n",
       "      <td>82</td>\n",
       "      <td>14</td>\n",
       "      <td>480.0</td>\n",
       "      <td>0</td>\n",
       "    </tr>\n",
       "    <tr>\n",
       "      <th>3</th>\n",
       "      <td>496</td>\n",
       "      <td>141</td>\n",
       "      <td>20</td>\n",
       "      <td>65</td>\n",
       "      <td>78</td>\n",
       "      <td>37</td>\n",
       "      <td>11</td>\n",
       "      <td>5628</td>\n",
       "      <td>1575.0</td>\n",
       "      <td>225.0</td>\n",
       "      <td>828</td>\n",
       "      <td>838</td>\n",
       "      <td>354.0</td>\n",
       "      <td>1</td>\n",
       "      <td>0</td>\n",
       "      <td>200</td>\n",
       "      <td>11</td>\n",
       "      <td>3</td>\n",
       "      <td>500.0</td>\n",
       "      <td>1</td>\n",
       "    </tr>\n",
       "    <tr>\n",
       "      <th>4</th>\n",
       "      <td>321</td>\n",
       "      <td>87</td>\n",
       "      <td>10</td>\n",
       "      <td>39</td>\n",
       "      <td>42</td>\n",
       "      <td>30</td>\n",
       "      <td>2</td>\n",
       "      <td>396</td>\n",
       "      <td>101.0</td>\n",
       "      <td>12.0</td>\n",
       "      <td>48</td>\n",
       "      <td>46</td>\n",
       "      <td>33.0</td>\n",
       "      <td>1</td>\n",
       "      <td>0</td>\n",
       "      <td>805</td>\n",
       "      <td>40</td>\n",
       "      <td>4</td>\n",
       "      <td>91.5</td>\n",
       "      <td>1</td>\n",
       "    </tr>\n",
       "    <tr>\n",
       "      <th>5</th>\n",
       "      <td>594</td>\n",
       "      <td>169</td>\n",
       "      <td>4</td>\n",
       "      <td>74</td>\n",
       "      <td>51</td>\n",
       "      <td>35</td>\n",
       "      <td>11</td>\n",
       "      <td>4408</td>\n",
       "      <td>1133.0</td>\n",
       "      <td>19.0</td>\n",
       "      <td>501</td>\n",
       "      <td>336</td>\n",
       "      <td>194.0</td>\n",
       "      <td>0</td>\n",
       "      <td>1</td>\n",
       "      <td>282</td>\n",
       "      <td>421</td>\n",
       "      <td>25</td>\n",
       "      <td>750.0</td>\n",
       "      <td>0</td>\n",
       "    </tr>\n",
       "  </tbody>\n",
       "</table>\n",
       "</div>"
      ],
      "text/plain": [
       "   AtBat  Hits  HmRun  Runs  RBI  Walks  Years  CAtBat   CHits  CHmRun  CRuns  \\\n",
       "1    315    81      7    24   38     39     14    3449   835.0    69.0    321   \n",
       "2    479   130     18    66   72     76      3    1624   457.0    63.0    224   \n",
       "3    496   141     20    65   78     37     11    5628  1575.0   225.0    828   \n",
       "4    321    87     10    39   42     30      2     396   101.0    12.0     48   \n",
       "5    594   169      4    74   51     35     11    4408  1133.0    19.0    501   \n",
       "\n",
       "   CRBI  CWalks  League  Division  PutOuts  Assists  Errors  Salary  NewLeague  \n",
       "1   414   375.0       1         1      632       43      10   475.0          1  \n",
       "2   266   263.0       0         1      880       82      14   480.0          0  \n",
       "3   838   354.0       1         0      200       11       3   500.0          1  \n",
       "4    46    33.0       1         0      805       40       4    91.5          1  \n",
       "5   336   194.0       0         1      282      421      25   750.0          0  "
      ]
     },
     "execution_count": 13,
     "metadata": {},
     "output_type": "execute_result"
    }
   ],
   "source": [
    "df.head()"
   ]
  },
  {
   "cell_type": "markdown",
   "id": "a8912f28",
   "metadata": {
    "papermill": {
     "duration": 0.018585,
     "end_time": "2021-09-21T07:11:32.375230",
     "exception": false,
     "start_time": "2021-09-21T07:11:32.356645",
     "status": "completed"
    },
    "tags": []
   },
   "source": [
    "### Feature Engineering\n",
    "\n",
    "For creating new features, it is important to have domain knowledge about the data we have. For this purpose, I tried to get insights from the glossary of mlb.com the official site of Major League Baseball. I also created some features myself that I think might be useful."
   ]
  },
  {
   "cell_type": "code",
   "execution_count": 14,
   "id": "f30fd6cf",
   "metadata": {
    "execution": {
     "iopub.execute_input": "2021-09-21T07:11:32.433971Z",
     "iopub.status.busy": "2021-09-21T07:11:32.433276Z",
     "iopub.status.idle": "2021-09-21T07:11:32.435706Z",
     "shell.execute_reply": "2021-09-21T07:11:32.436104Z",
     "shell.execute_reply.started": "2021-07-14T13:10:48.026042Z"
    },
    "papermill": {
     "duration": 0.042059,
     "end_time": "2021-09-21T07:11:32.436269",
     "exception": false,
     "start_time": "2021-09-21T07:11:32.394210",
     "status": "completed"
    },
    "tags": []
   },
   "outputs": [],
   "source": [
    "df[\"New_BattingAverage\"] = df[\"CHits\"] / df[\"CAtBat\"]\n",
    "df[\"New_TotalBases\"] =  ((df[\"CHits\"] * 2) + (4 * df[\"CHmRun\"]))\n",
    "df[\"New_SluggingPercentage\"] = df[\"New_TotalBases\"] / df[\"CAtBat\"]\n",
    "df[\"New_IsolatedPower\"] = df[\"New_SluggingPercentage\"] - df[\"New_BattingAverage\"]\n",
    "df[\"New_TripleCrown\"] = (df[\"CHmRun\"] * 0.4) + (df[\"CRBI\"] * 0.25) + (df[\"New_BattingAverage\"] * 0.35)\n",
    "df[\"New_BattingAverageOnBalls\"] = (df[\"CHits\"] - df[\"CHmRun\"]) / (df[\"CAtBat\"] - df[\"CHmRun\"])\n",
    "df[\"New_RunsCreated\"] = df[\"New_TotalBases\"] * (df[\"CHits\"] + df[\"CWalks\"]) / (df[\"CAtBat\"] + df[\"CWalks\"])\n",
    "df[\"New_FieldingPercentage\"] = 1 - ((df[\"PutOuts\"] + df[\"Assists\"]) / (df[\"PutOuts\"] + df[\"Assists\"] + df[\"Errors\"] + 1))\n",
    "\n",
    "df[\"New_CRunsYearsRatio\"] = df[\"CRuns\"] / df[\"Years\"]\n",
    "df['New_PutOutsYears'] = df['PutOuts'] * df['Years']\n",
    "df[\"New_RBIWalks\"] = df[\"RBI\"] * df[\"Walks\"]\n",
    "df[\"New_RBIWalksRatio\"] = df[\"RBI\"] / df[\"Walks\"]\n",
    "df[\"New_CHmRunCAtBatRatio\"] = df[\"CHmRun\"] / df[\"CAtBat\"]"
   ]
  },
  {
   "cell_type": "markdown",
   "id": "b28a5659",
   "metadata": {
    "papermill": {
     "duration": 0.018815,
     "end_time": "2021-09-21T07:11:32.474405",
     "exception": false,
     "start_time": "2021-09-21T07:11:32.455590",
     "status": "completed"
    },
    "tags": []
   },
   "source": [
    "### Constructing Base Models (Linear and Non-linear)"
   ]
  },
  {
   "cell_type": "code",
   "execution_count": 15,
   "id": "cd718b9b",
   "metadata": {
    "execution": {
     "iopub.execute_input": "2021-09-21T07:11:32.518435Z",
     "iopub.status.busy": "2021-09-21T07:11:32.517248Z",
     "iopub.status.idle": "2021-09-21T07:11:32.520300Z",
     "shell.execute_reply": "2021-09-21T07:11:32.520761Z",
     "shell.execute_reply.started": "2021-07-14T13:10:51.19222Z"
    },
    "papermill": {
     "duration": 0.027346,
     "end_time": "2021-09-21T07:11:32.520952",
     "exception": false,
     "start_time": "2021-09-21T07:11:32.493606",
     "status": "completed"
    },
    "tags": []
   },
   "outputs": [],
   "source": [
    "# assign X (input features) and y (target feature)\n",
    "X = df.drop([\"Salary\"], axis=1)\n",
    "y = df[\"Salary\"]"
   ]
  },
  {
   "cell_type": "code",
   "execution_count": 16,
   "id": "80cbda75",
   "metadata": {
    "execution": {
     "iopub.execute_input": "2021-09-21T07:11:32.562068Z",
     "iopub.status.busy": "2021-09-21T07:11:32.561471Z",
     "iopub.status.idle": "2021-09-21T07:11:32.646642Z",
     "shell.execute_reply": "2021-09-21T07:11:32.646041Z",
     "shell.execute_reply.started": "2021-07-14T13:10:52.260468Z"
    },
    "papermill": {
     "duration": 0.106867,
     "end_time": "2021-09-21T07:11:32.646775",
     "exception": false,
     "start_time": "2021-09-21T07:11:32.539908",
     "status": "completed"
    },
    "tags": []
   },
   "outputs": [
    {
     "data": {
      "text/html": [
       "<div>\n",
       "<style scoped>\n",
       "    .dataframe tbody tr th:only-of-type {\n",
       "        vertical-align: middle;\n",
       "    }\n",
       "\n",
       "    .dataframe tbody tr th {\n",
       "        vertical-align: top;\n",
       "    }\n",
       "\n",
       "    .dataframe thead th {\n",
       "        text-align: right;\n",
       "    }\n",
       "</style>\n",
       "<table border=\"1\" class=\"dataframe\">\n",
       "  <thead>\n",
       "    <tr style=\"text-align: right;\">\n",
       "      <th></th>\n",
       "      <th>Feature</th>\n",
       "      <th>Value</th>\n",
       "    </tr>\n",
       "  </thead>\n",
       "  <tbody>\n",
       "    <tr>\n",
       "      <th>15</th>\n",
       "      <td>PutOuts</td>\n",
       "      <td>54</td>\n",
       "    </tr>\n",
       "    <tr>\n",
       "      <th>30</th>\n",
       "      <td>New_RBIWalksRatio</td>\n",
       "      <td>49</td>\n",
       "    </tr>\n",
       "    <tr>\n",
       "      <th>6</th>\n",
       "      <td>Years</td>\n",
       "      <td>47</td>\n",
       "    </tr>\n",
       "    <tr>\n",
       "      <th>28</th>\n",
       "      <td>New_PutOutsYears</td>\n",
       "      <td>43</td>\n",
       "    </tr>\n",
       "    <tr>\n",
       "      <th>27</th>\n",
       "      <td>New_CRunsYearsRatio</td>\n",
       "      <td>43</td>\n",
       "    </tr>\n",
       "    <tr>\n",
       "      <th>31</th>\n",
       "      <td>New_CHmRunCAtBatRatio</td>\n",
       "      <td>37</td>\n",
       "    </tr>\n",
       "    <tr>\n",
       "      <th>9</th>\n",
       "      <td>CHmRun</td>\n",
       "      <td>36</td>\n",
       "    </tr>\n",
       "    <tr>\n",
       "      <th>24</th>\n",
       "      <td>New_BattingAverageOnBalls</td>\n",
       "      <td>35</td>\n",
       "    </tr>\n",
       "    <tr>\n",
       "      <th>12</th>\n",
       "      <td>CWalks</td>\n",
       "      <td>34</td>\n",
       "    </tr>\n",
       "    <tr>\n",
       "      <th>17</th>\n",
       "      <td>Errors</td>\n",
       "      <td>31</td>\n",
       "    </tr>\n",
       "    <tr>\n",
       "      <th>16</th>\n",
       "      <td>Assists</td>\n",
       "      <td>29</td>\n",
       "    </tr>\n",
       "    <tr>\n",
       "      <th>8</th>\n",
       "      <td>CHits</td>\n",
       "      <td>29</td>\n",
       "    </tr>\n",
       "    <tr>\n",
       "      <th>21</th>\n",
       "      <td>New_SluggingPercentage</td>\n",
       "      <td>27</td>\n",
       "    </tr>\n",
       "    <tr>\n",
       "      <th>5</th>\n",
       "      <td>Walks</td>\n",
       "      <td>27</td>\n",
       "    </tr>\n",
       "    <tr>\n",
       "      <th>2</th>\n",
       "      <td>HmRun</td>\n",
       "      <td>26</td>\n",
       "    </tr>\n",
       "    <tr>\n",
       "      <th>3</th>\n",
       "      <td>Runs</td>\n",
       "      <td>25</td>\n",
       "    </tr>\n",
       "    <tr>\n",
       "      <th>26</th>\n",
       "      <td>New_FieldingPercentage</td>\n",
       "      <td>25</td>\n",
       "    </tr>\n",
       "    <tr>\n",
       "      <th>7</th>\n",
       "      <td>CAtBat</td>\n",
       "      <td>25</td>\n",
       "    </tr>\n",
       "    <tr>\n",
       "      <th>10</th>\n",
       "      <td>CRuns</td>\n",
       "      <td>21</td>\n",
       "    </tr>\n",
       "    <tr>\n",
       "      <th>0</th>\n",
       "      <td>AtBat</td>\n",
       "      <td>21</td>\n",
       "    </tr>\n",
       "    <tr>\n",
       "      <th>1</th>\n",
       "      <td>Hits</td>\n",
       "      <td>21</td>\n",
       "    </tr>\n",
       "    <tr>\n",
       "      <th>22</th>\n",
       "      <td>New_IsolatedPower</td>\n",
       "      <td>20</td>\n",
       "    </tr>\n",
       "    <tr>\n",
       "      <th>29</th>\n",
       "      <td>New_RBIWalks</td>\n",
       "      <td>20</td>\n",
       "    </tr>\n",
       "    <tr>\n",
       "      <th>4</th>\n",
       "      <td>RBI</td>\n",
       "      <td>19</td>\n",
       "    </tr>\n",
       "    <tr>\n",
       "      <th>19</th>\n",
       "      <td>New_BattingAverage</td>\n",
       "      <td>17</td>\n",
       "    </tr>\n",
       "    <tr>\n",
       "      <th>11</th>\n",
       "      <td>CRBI</td>\n",
       "      <td>15</td>\n",
       "    </tr>\n",
       "    <tr>\n",
       "      <th>25</th>\n",
       "      <td>New_RunsCreated</td>\n",
       "      <td>12</td>\n",
       "    </tr>\n",
       "    <tr>\n",
       "      <th>23</th>\n",
       "      <td>New_TripleCrown</td>\n",
       "      <td>11</td>\n",
       "    </tr>\n",
       "    <tr>\n",
       "      <th>18</th>\n",
       "      <td>NewLeague</td>\n",
       "      <td>11</td>\n",
       "    </tr>\n",
       "    <tr>\n",
       "      <th>20</th>\n",
       "      <td>New_TotalBases</td>\n",
       "      <td>10</td>\n",
       "    </tr>\n",
       "    <tr>\n",
       "      <th>14</th>\n",
       "      <td>Division</td>\n",
       "      <td>6</td>\n",
       "    </tr>\n",
       "    <tr>\n",
       "      <th>13</th>\n",
       "      <td>League</td>\n",
       "      <td>1</td>\n",
       "    </tr>\n",
       "  </tbody>\n",
       "</table>\n",
       "</div>"
      ],
      "text/plain": [
       "                      Feature  Value\n",
       "15                    PutOuts     54\n",
       "30          New_RBIWalksRatio     49\n",
       "6                       Years     47\n",
       "28           New_PutOutsYears     43\n",
       "27        New_CRunsYearsRatio     43\n",
       "31      New_CHmRunCAtBatRatio     37\n",
       "9                      CHmRun     36\n",
       "24  New_BattingAverageOnBalls     35\n",
       "12                     CWalks     34\n",
       "17                     Errors     31\n",
       "16                    Assists     29\n",
       "8                       CHits     29\n",
       "21     New_SluggingPercentage     27\n",
       "5                       Walks     27\n",
       "2                       HmRun     26\n",
       "3                        Runs     25\n",
       "26     New_FieldingPercentage     25\n",
       "7                      CAtBat     25\n",
       "10                      CRuns     21\n",
       "0                       AtBat     21\n",
       "1                        Hits     21\n",
       "22          New_IsolatedPower     20\n",
       "29               New_RBIWalks     20\n",
       "4                         RBI     19\n",
       "19         New_BattingAverage     17\n",
       "11                       CRBI     15\n",
       "25            New_RunsCreated     12\n",
       "23            New_TripleCrown     11\n",
       "18                  NewLeague     11\n",
       "20             New_TotalBases     10\n",
       "14                   Division      6\n",
       "13                     League      1"
      ]
     },
     "execution_count": 16,
     "metadata": {},
     "output_type": "execute_result"
    }
   ],
   "source": [
    "# list feature importances for a regressor model like LGBM\n",
    "pre_model = LGBMRegressor(random_state=17).fit(X, y)\n",
    "feature_imp = pd.DataFrame({'Feature': X.columns, 'Value': pre_model.feature_importances_})\n",
    "feature_imp.sort_values(\"Value\", ascending=False)"
   ]
  },
  {
   "cell_type": "code",
   "execution_count": 17,
   "id": "e3cf8eb7",
   "metadata": {
    "execution": {
     "iopub.execute_input": "2021-09-21T07:11:32.697225Z",
     "iopub.status.busy": "2021-09-21T07:11:32.696631Z",
     "iopub.status.idle": "2021-09-21T07:11:40.359153Z",
     "shell.execute_reply": "2021-09-21T07:11:40.359973Z",
     "shell.execute_reply.started": "2021-07-14T13:10:54.957668Z"
    },
    "papermill": {
     "duration": 7.693842,
     "end_time": "2021-09-21T07:11:40.360145",
     "exception": false,
     "start_time": "2021-09-21T07:11:32.666303",
     "status": "completed"
    },
    "tags": []
   },
   "outputs": [
    {
     "name": "stdout",
     "output_type": "stream",
     "text": [
      "RMSE: 233.2044 (LR) \n",
      "RMSE: 228.0199 (Ridge) \n",
      "RMSE: 224.5419 (Lasso) \n",
      "RMSE: 223.048 (ElasticNet) \n",
      "RMSE: 191.639 (KNN) \n",
      "RMSE: 210.18 (CART) \n",
      "RMSE: 155.6984 (RF) \n",
      "RMSE: 269.8491 (SVR) \n",
      "RMSE: 164.1558 (GBM) \n",
      "RMSE: 176.9497 (XGBoost) \n",
      "RMSE: 162.4859 (LightGBM) \n"
     ]
    }
   ],
   "source": [
    "base_models = [('LR', LinearRegression()), \n",
    "               (\"Ridge\", Ridge(random_state=17)),\n",
    "               (\"Lasso\", Lasso(random_state=17)),\n",
    "               (\"ElasticNet\", ElasticNet(random_state=17)),\n",
    "               ('KNN', KNeighborsRegressor()),\n",
    "               ('CART', DecisionTreeRegressor(random_state=17)),\n",
    "               ('RF', RandomForestRegressor(random_state=17)),\n",
    "               ('SVR', SVR()),\n",
    "               ('GBM', GradientBoostingRegressor(random_state=17)),\n",
    "               (\"XGBoost\", XGBRegressor(objective='reg:squarederror', random_state=17)),\n",
    "               (\"LightGBM\", LGBMRegressor(random_state=17))]\n",
    "\n",
    "for name, model in base_models:\n",
    "    rmse = np.mean(np.sqrt(-cross_val_score(model, X, y, cv=10, scoring=\"neg_mean_squared_error\")))\n",
    "    print(f\"RMSE: {round(rmse, 4)} ({name}) \")"
   ]
  },
  {
   "cell_type": "markdown",
   "id": "fa82710a",
   "metadata": {
    "papermill": {
     "duration": 0.020736,
     "end_time": "2021-09-21T07:11:40.401953",
     "exception": false,
     "start_time": "2021-09-21T07:11:40.381217",
     "status": "completed"
    },
    "tags": []
   },
   "source": [
    "### Hyperparameter Tuning for Some Models"
   ]
  },
  {
   "cell_type": "code",
   "execution_count": 18,
   "id": "22492c79",
   "metadata": {
    "execution": {
     "iopub.execute_input": "2021-09-21T07:11:40.452061Z",
     "iopub.status.busy": "2021-09-21T07:11:40.450301Z",
     "iopub.status.idle": "2021-09-21T07:11:40.452858Z",
     "shell.execute_reply": "2021-09-21T07:11:40.453281Z",
     "shell.execute_reply.started": "2021-07-14T13:11:08.790892Z"
    },
    "papermill": {
     "duration": 0.030552,
     "end_time": "2021-09-21T07:11:40.453436",
     "exception": false,
     "start_time": "2021-09-21T07:11:40.422884",
     "status": "completed"
    },
    "tags": []
   },
   "outputs": [],
   "source": [
    "# GridSearchCV parameter space for selected models\n",
    "knn_params = {\"n_neighbors\": list(range(1, 31)),\n",
    "              \"algorithm\": [\"auto\", \"ball_tree\", \"kd_tree\", \"brute\"]}\n",
    "\n",
    "cart_params = {'max_depth': range(1, 20),\n",
    "               \"min_samples_split\": range(2, 30)}\n",
    "\n",
    "rf_params = {\"max_depth\": [5, 8, 15, None],\n",
    "             \"max_features\": [5, 7, \"auto\"],\n",
    "             \"min_samples_split\": [8, 15, 20],\n",
    "             \"n_estimators\": [100, 200, 300]}\n",
    "\n",
    "lightgbm_params = {\"learning_rate\": [0.01, 0.1, 0.001],\n",
    "                   \"n_estimators\": [300, 500, 1500],\n",
    "                   \"colsample_bytree\": [0.5, 0.7, 1]}"
   ]
  },
  {
   "cell_type": "code",
   "execution_count": 19,
   "id": "7d6344e6",
   "metadata": {
    "execution": {
     "iopub.execute_input": "2021-09-21T07:11:40.500627Z",
     "iopub.status.busy": "2021-09-21T07:11:40.499741Z",
     "iopub.status.idle": "2021-09-21T07:11:40.502616Z",
     "shell.execute_reply": "2021-09-21T07:11:40.502134Z",
     "shell.execute_reply.started": "2021-07-14T13:11:14.683829Z"
    },
    "papermill": {
     "duration": 0.028594,
     "end_time": "2021-09-21T07:11:40.502746",
     "exception": false,
     "start_time": "2021-09-21T07:11:40.474152",
     "status": "completed"
    },
    "tags": []
   },
   "outputs": [],
   "source": [
    "fast_models = [(\"KNN\", KNeighborsRegressor(), knn_params),\n",
    "              (\"CART\", DecisionTreeRegressor(random_state=17), cart_params),\n",
    "              (\"RF\", RandomForestRegressor(random_state=17), rf_params),\n",
    "              (\"LightGBM\", LGBMRegressor(random_state=17), lightgbm_params)]"
   ]
  },
  {
   "cell_type": "code",
   "execution_count": 20,
   "id": "931982e3",
   "metadata": {
    "execution": {
     "iopub.execute_input": "2021-09-21T07:11:40.557831Z",
     "iopub.status.busy": "2021-09-21T07:11:40.554727Z",
     "iopub.status.idle": "2021-09-21T07:12:52.133228Z",
     "shell.execute_reply": "2021-09-21T07:12:52.133839Z",
     "shell.execute_reply.started": "2021-07-14T13:11:26.455399Z"
    },
    "papermill": {
     "duration": 71.610475,
     "end_time": "2021-09-21T07:12:52.134070",
     "exception": false,
     "start_time": "2021-09-21T07:11:40.523595",
     "status": "completed"
    },
    "tags": []
   },
   "outputs": [
    {
     "name": "stdout",
     "output_type": "stream",
     "text": [
      "RMSE (Before): 191.639 (KNN) \n",
      "RMSE (After): 180.8777 (KNN) \n",
      "KNN best params: {'algorithm': 'auto', 'n_neighbors': 21}\n",
      "\n",
      "RMSE (Before): 210.18 (CART) \n",
      "RMSE (After): 177.8424 (CART) \n",
      "CART best params: {'max_depth': 7, 'min_samples_split': 18}\n",
      "\n",
      "RMSE (Before): 155.6984 (RF) \n",
      "RMSE (After): 154.9561 (RF) \n",
      "RF best params: {'max_depth': 15, 'max_features': 'auto', 'min_samples_split': 8, 'n_estimators': 200}\n",
      "\n",
      "RMSE (Before): 162.4859 (LightGBM) \n",
      "RMSE (After): 155.7668 (LightGBM) \n",
      "LightGBM best params: {'colsample_bytree': 0.5, 'learning_rate': 0.01, 'n_estimators': 300}\n",
      "\n"
     ]
    }
   ],
   "source": [
    "best_models = {}\n",
    "\n",
    "for name, model, params in fast_models:\n",
    "    rmse = np.mean(np.sqrt(-cross_val_score(model, X, y, cv=10, scoring=\"neg_mean_squared_error\")))\n",
    "    print(f\"RMSE (Before): {round(rmse, 4)} ({name}) \")\n",
    "    gs_best = GridSearchCV(model, params, cv=3, n_jobs=-1, verbose=False).fit(X, y)\n",
    "    final_model = model.set_params(**gs_best.best_params_)\n",
    "    rmse = np.mean(np.sqrt(-cross_val_score(final_model, X, y, cv=10, scoring=\"neg_mean_squared_error\")))\n",
    "    print(f\"RMSE (After): {round(rmse, 4)} ({name}) \")\n",
    "    print(f\"{name} best params: {gs_best.best_params_}\", end=\"\\n\\n\")\n",
    "    best_models[name] = final_model"
   ]
  },
  {
   "cell_type": "markdown",
   "id": "2c433bcc",
   "metadata": {
    "papermill": {
     "duration": 0.022215,
     "end_time": "2021-09-21T07:12:52.179683",
     "exception": false,
     "start_time": "2021-09-21T07:12:52.157468",
     "status": "completed"
    },
    "tags": []
   },
   "source": [
    "### Conclusion\n",
    "\n",
    "In conclusion, the best model seems like **RF** with a **154.9561** score of root-mean-squared error (RSME). RMSE is a frequently used measure of the differences between values (sample or population values) predicted by a model or an estimator and the values observed. \n",
    "\n",
    "Considering the feature importances, it is seen that the newly created features are effective in the success of the model, although it varies according to the model used.\n",
    "\n",
    "* After setting q1=0.05, q3=0.95, and removing outliers in \"Salary\", 249 rows left and achieved 185.6107 RSME score with tuned RF.\n",
    "* After setting q1=0.10, q3=0.90, and removing outliers in \"Salary\", 236 rows left and achieved 154.9561 RSME score with tuned RF.\n",
    "* After setting q1=0.20, q3=0.80, and removing outliers in \"Salary\", 210 rows left and achieved 126.4241 RSME score with tuned RF.\n",
    "* After setting q1=0.25, q3=0.75, and removing outliers in \"Salary\", 193 rows left and achieved 118.4944 RSME score with tuned RF."
   ]
  },
  {
   "cell_type": "code",
   "execution_count": null,
   "id": "658261d8",
   "metadata": {
    "papermill": {
     "duration": 0.02209,
     "end_time": "2021-09-21T07:12:52.225159",
     "exception": false,
     "start_time": "2021-09-21T07:12:52.203069",
     "status": "completed"
    },
    "tags": []
   },
   "outputs": [],
   "source": []
  }
 ],
 "metadata": {
  "kernelspec": {
   "display_name": "Python 3",
   "language": "python",
   "name": "python3"
  },
  "language_info": {
   "codemirror_mode": {
    "name": "ipython",
    "version": 3
   },
   "file_extension": ".py",
   "mimetype": "text/x-python",
   "name": "python",
   "nbconvert_exporter": "python",
   "pygments_lexer": "ipython3",
   "version": "3.7.10"
  },
  "papermill": {
   "default_parameters": {},
   "duration": 90.670097,
   "end_time": "2021-09-21T07:12:53.058640",
   "environment_variables": {},
   "exception": null,
   "input_path": "__notebook__.ipynb",
   "output_path": "__notebook__.ipynb",
   "parameters": {},
   "start_time": "2021-09-21T07:11:22.388543",
   "version": "2.3.3"
  }
 },
 "nbformat": 4,
 "nbformat_minor": 5
}
